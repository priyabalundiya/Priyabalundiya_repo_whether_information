{
  "nbformat": 4,
  "nbformat_minor": 0,
  "metadata": {
    "colab": {
      "name": "Priya Balundiya file on whether ",
      "provenance": []
    },
    "kernelspec": {
      "name": "python3",
      "display_name": "Python 3"
    },
    "language_info": {
      "name": "python"
    }
  },
  "cells": [
    {
      "cell_type": "code",
      "metadata": {
        "id": "uCI-VFzeI3qq"
      },
      "source": [
        ""
      ],
      "execution_count": null,
      "outputs": []
    },
    {
      "cell_type": "code",
      "metadata": {
        "colab": {
          "base_uri": "https://localhost:8080/"
        },
        "id": "ZLrQuZX8LTnb",
        "outputId": "8705e7c5-76a8-4f9a-cddf-a840fc5368b6"
      },
      "source": [
        "x=open(\"tech.txt\",'r')\n",
        "import requests \n",
        "from datetime import datetime\n",
        "api_key='87d845b0b6cf29baa1a73cc34b067a95'\n",
        "location =input(\"Enter the city name:\")     \n",
        "complete_api_link= \"https://api.openweathermap.org/data/2.5/weather?q=\"+location+\"&appid=\"+api_key\n",
        "\n",
        "api_link= requests.get(complete_api_link)\n",
        "\n",
        "api_data = api_link.json()\n",
        "\n",
        "#create variables to store and display data\n",
        "\n",
        "temp_city = ((api_data['main']['temp']) - 273.15)\n",
        "\n",
        "weather_desc = api_data['weather'][0]['description']\n",
        "hmdt = api_data['main']['humidity']\n",
        "\n",
        "wind_spd = api_data['wind']['speed']\n",
        "date_time = datetime.now().strftime (\"%d %b % Y | %I: %M:%S %p\")\n",
        "\n",
        "print (\"-----------------\"      ,file=x)\n",
        "\n",
        "print (\"Weather Stats for - {} || {})\".format(location.upper(), date_time    ,file=x))\n",
        "\n",
        "print (\"----------------------\"       ,file=x)\n",
        "\n",
        "print (\"Current temperature is: {:.2f} deg C\".format(temp_city)   ,file=x )\n",
        "\n",
        "print (\"Current weather desc  :\", weather_desc      ,file=x)\n",
        "\n",
        "\n",
        "print (\"Current Humidity      :\",  hmdt, '%'     ,file=x)\n",
        "\n",
        "\n",
        "print (\"Current wind speed    :\", wind_spd, 'kmph'      ,file=x)\n",
        "x.close()\n",
        "\n"
      ],
      "execution_count": 6,
      "outputs": [
        {
          "output_type": "stream",
          "text": [
            "Enter the city name:ranchi\n",
            "Weather Stats for - RANCHI || 23 Jun % Y | 01: 53:26 PM)\n"
          ],
          "name": "stdout"
        }
      ]
    }
  ]
}